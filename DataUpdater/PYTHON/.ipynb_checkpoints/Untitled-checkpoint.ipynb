{
 "cells": [
  {
   "cell_type": "code",
   "execution_count": 1,
   "id": "02750c88",
   "metadata": {},
   "outputs": [],
   "source": [
    "import pandas as pd\n",
    "\n",
    "# Load the CSV files\n",
    "ex3 = pd.read_csv('Ex3.csv')\n",
    "ex4 = pd.read_csv('Ex4.csv')\n",
    "\n",
    "# Add a prefix to each column in Ex4 except for the Id column\n",
    "ex4 = ex4.rename(columns={col: f'Pass4_{col}' for col in ex4.columns if col != 'Id'})\n",
    "\n",
    "# Merge the two dataframes on the Id column\n",
    "combined_df = pd.merge(ex3, ex4, on='Id')\n",
    "\n",
    "# Save the combined dataframe to a new CSV file\n",
    "combined_df.to_csv('Combined_Ex3_Ex4.csv', index=False)\n"
   ]
  },
  {
   "cell_type": "code",
   "execution_count": null,
   "id": "c931df5d",
   "metadata": {},
   "outputs": [],
   "source": []
  }
 ],
 "metadata": {
  "kernelspec": {
   "display_name": "Python 3 (ipykernel)",
   "language": "python",
   "name": "python3"
  },
  "language_info": {
   "codemirror_mode": {
    "name": "ipython",
    "version": 3
   },
   "file_extension": ".py",
   "mimetype": "text/x-python",
   "name": "python",
   "nbconvert_exporter": "python",
   "pygments_lexer": "ipython3",
   "version": "3.8.5"
  }
 },
 "nbformat": 4,
 "nbformat_minor": 5
}
